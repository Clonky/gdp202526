{
 "cells": [
  {
   "cell_type": "markdown",
   "id": "a23683ff-201f-4693-b655-3c1c034f220d",
   "metadata": {},
   "source": [
    "# Connect 4"
   ]
  },
  {
   "cell_type": "markdown",
   "id": "0fb2b51b-7b33-4a21-ac97-8b4be33e50ee",
   "metadata": {},
   "source": [
    "<div style=\"display:flex; width:480px; margin-left: auto; margin-right: auto\">\n",
    "<img src=\"figures/connect4.png\" />\n",
    "</div>"
   ]
  },
  {
   "cell_type": "markdown",
   "id": "d4a2bd56-8a5d-4fe8-bebd-c98d06a226a3",
   "metadata": {},
   "source": [
    "Connect 4 is a game in which two players alternate dropping stones of their respective color into a board. The first player to achieve 4 stones in a row, in a column or diagonally is the winner. The other player can hinder your sequences by dropping a stone in your way, thereby interrupting your consecutive sequence.\n",
    "\n",
    "A round is defined as follows:\n",
    "+ The active player picks a column to drop his stone into. The stone drops to the lowest position that is not taken up by a stone\n",
    "+ The players check if the dropped stone results in a victory horizontally, vertically or diagonally\n",
    "+ If the dropped stone does not result in victory, the current player's turn ends and the other player becomes the active player. Repeat from the top\n",
    "\n",
    "We intend to implement a playable version of this game for two players. This will take several sessions as it is not a trivial endeavour. Let's break down what we have to do:"
   ]
  },
  {
   "cell_type": "markdown",
   "id": "bfd0072b-9fe1-4fcb-b820-a03047262a97",
   "metadata": {},
   "source": [
    "## High Level Tasks:"
   ]
  },
  {
   "cell_type": "markdown",
   "id": "a5f3c1a6-5ee0-47ce-92fa-b4a1b593d9d9",
   "metadata": {},
   "source": [
    "In order to solve this programming problem, we have to split it up into logical tasks which we can tackle in turn."
   ]
  },
  {
   "cell_type": "markdown",
   "id": "c85a26ee-403e-41f1-ab8e-26f60bef2857",
   "metadata": {},
   "source": [
    "<h3 style=\"color:darkgreen\">Questions</h3>\n",
    "\n",
    "Think about the problem. What are the mechanisms and the data structures we have to implement to make this game playable with what we know?"
   ]
  },
  {
   "cell_type": "markdown",
   "id": "847978de-d5e3-41e9-90fe-7245223ae091",
   "metadata": {},
   "source": [
    "### Task 1"
   ]
  },
  {
   "cell_type": "markdown",
   "id": "7fd234a8-34dc-4029-8263-0c6066a08c2e",
   "metadata": {},
   "source": [
    "### Task 2"
   ]
  }
 ],
 "metadata": {
  "kernelspec": {
   "display_name": "Python 3 (ipykernel)",
   "language": "python",
   "name": "python3"
  },
  "language_info": {
   "codemirror_mode": {
    "name": "ipython",
    "version": 3
   },
   "file_extension": ".py",
   "mimetype": "text/x-python",
   "name": "python",
   "nbconvert_exporter": "python",
   "pygments_lexer": "ipython3",
   "version": "3.12.4"
  }
 },
 "nbformat": 4,
 "nbformat_minor": 5
}
